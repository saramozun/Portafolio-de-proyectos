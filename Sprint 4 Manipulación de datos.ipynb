{
 "cells": [
  {
   "cell_type": "markdown",
   "id": "01b6175c-81ca-4040-b724-3569ed33b720",
   "metadata": {},
   "source": [
    "<div class=\"alert alert-block alert-danger\">\n",
    "<b>Comentario general del revisor</b> <a class=\"tocSkip\"></a><br />\n",
    "Status del proyecto: <b>No aprobado</b>\n",
    "\n",
    "En la parte de las graficas hay problemas porque jupyter se queda demasiado tiempo tratando de hacer la grafica, esto es porque los datos no se han pasado correctamente, para que una grafica se haga de una buena manera debemos hacer agrupaciones, te he dejado dos ejemplos para que los puedas aplicar en los demás ejercicios\n",
    "</div>\n"
   ]
  },
  {
   "cell_type": "markdown",
   "id": "eed5cc69-1684-483c-a539-55a7667ddc49",
   "metadata": {},
   "source": [
    "¡Hola!<br />\n",
    "Soy **Francisco Cortés**, estoy contento de revisar tu proyecto y ser parte de tu proceso de aprendizaje.\n",
    "A lo largo del texto, haré algunas observaciones sobre mejoras en el código y también haré comentarios sobre tus percepciones sobre el tema. Si existe algún error en el código, no te preocupes, estoy aquí para ayudarte a mejorarlo, en la primera iteración te lo señalaré para que tengas la oportunidad de corregirlo, pero si aún no encuentras una solución para esta tarea, te daré una pista más precisa en la próxima iteración y también algunos ejemplos prácticos. Estaré abierto a retroalimentación y discusiones sobre el tema.<br />\n",
    "Encontrarás mis comentarios a continuación - **por favor no los muevas, modifiques o borres**.\n",
    "Revisaré cuidadosamente tu código para comprobar que se han cumplido con los requisitos y te proporcionaré mis comentarios en cajas verdes, amarillas o rojas como esta:\n",
    "\n",
    "<div class=\"alert alert-block alert-success\">\n",
    "<b>Comentario del revisor</b> <a class=\"tocSkip\"></a>\n",
    "\n",
    "Si la ejecución fue perfecta succesfully.\n",
    "</div>\n",
    "\n",
    "<div class=\"alert alert-block alert-warning\">\n",
    "<b>Comentario del revisor</b> <a class=\"tocSkip\"></a>\n",
    "\n",
    "Si existe alguna recomendación para que tu código mejore.\n",
    "</div>\n",
    "\n",
    "<div class=\"alert alert-block alert-danger\">\n",
    "\n",
    "<b>Comentario del revisor</b> <a class=\"tocSkip\"></a>\n",
    "\n",
    "Si existen correcciones necesarias para cumplir con los requisitos. El trabajo no puede ser aceptado si hay alguna caja roja.\n",
    "</div>\n",
    "\n",
    "Puedes responderme de la siguiente manera:\n",
    "\n",
    "<div class=\"alert alert-block alert-info\">\n",
    "<b>Respuesta del estudiante.</b> <a class=\"tocSkip\"></a>\n",
    "</div>\n"
   ]
  },
  {
   "cell_type": "markdown",
   "id": "3Xg_RQfnafXz",
   "metadata": {
    "id": "3Xg_RQfnafXz"
   },
   "source": [
    "# ¡Llena ese carrito!"
   ]
  },
  {
   "cell_type": "markdown",
   "id": "mhIvmmkW414q",
   "metadata": {
    "id": "mhIvmmkW414q"
   },
   "source": [
    "# Introducción\n",
    "\n",
    "Instacart es una plataforma de entregas de comestibles donde la clientela puede registrar un pedido y hacer que se lo entreguen, similar a Uber Eats y Door Dash.\n",
    "El conjunto de datos que te hemos proporcionado tiene modificaciones del original. Redujimos el tamaño del conjunto para que tus cálculos se hicieran más rápido e introdujimos valores ausentes y duplicados. Tuvimos cuidado de conservar las distribuciones de los datos originales cuando hicimos los cambios.\n",
    "\n",
    "Debes completar tres pasos. Para cada uno de ellos, escribe una breve introducción que refleje con claridad cómo pretendes resolver cada paso, y escribe párrafos explicatorios que justifiquen tus decisiones al tiempo que avanzas en tu solución.  También escribe una conclusión que resuma tus hallazgos y elecciones.\n"
   ]
  },
  {
   "cell_type": "markdown",
   "id": "3MbyzpOQZ5Or",
   "metadata": {
    "id": "3MbyzpOQZ5Or"
   },
   "source": [
    "## Diccionario de datos\n",
    "\n",
    "Hay cinco tablas en el conjunto de datos, y tendrás que usarlas todas para hacer el preprocesamiento de datos y el análisis exploratorio de datos. A continuación se muestra un diccionario de datos que enumera las columnas de cada tabla y describe los datos que contienen.\n",
    "\n",
    "- `instacart_orders.csv`: cada fila corresponde a un pedido en la aplicación Instacart.\n",
    "    - `'order_id'`: número de ID que identifica de manera única cada pedido.\n",
    "    - `'user_id'`: número de ID que identifica de manera única la cuenta de cada cliente.\n",
    "    - `'order_number'`: el número de veces que este cliente ha hecho un pedido.\n",
    "    - `'order_dow'`: día de la semana en que se hizo el pedido (0 si es domingo).\n",
    "    - `'order_hour_of_day'`: hora del día en que se hizo el pedido.\n",
    "    - `'days_since_prior_order'`: número de días transcurridos desde que este cliente hizo su pedido anterior.\n",
    "- `products.csv`: cada fila corresponde a un producto único que pueden comprar los clientes.\n",
    "    - `'product_id'`: número ID que identifica de manera única cada producto.\n",
    "    - `'product_name'`: nombre del producto.\n",
    "    - `'aisle_id'`: número ID que identifica de manera única cada categoría de pasillo de víveres.\n",
    "    - `'department_id'`: número ID que identifica de manera única cada departamento de víveres.\n",
    "- `order_products.csv`: cada fila corresponde a un artículo pedido en un pedido.\n",
    "    - `'order_id'`: número de ID que identifica de manera única cada pedido.\n",
    "    - `'product_id'`: número ID que identifica de manera única cada producto.\n",
    "    - `'add_to_cart_order'`: el orden secuencial en el que se añadió cada artículo en el carrito.\n",
    "    - `'reordered'`: 0 si el cliente nunca ha pedido este producto antes, 1 si lo ha pedido.\n",
    "- `aisles.csv`\n",
    "    - `'aisle_id'`: número ID que identifica de manera única cada categoría de pasillo de víveres.\n",
    "    - `'aisle'`: nombre del pasillo.\n",
    "- `departments.csv`\n",
    "    - `'department_id'`: número ID que identifica de manera única cada departamento de víveres.\n",
    "    - `'department'`: nombre del departamento."
   ]
  },
  {
   "cell_type": "markdown",
   "id": "n3Ha_cNSZ8lK",
   "metadata": {
    "id": "n3Ha_cNSZ8lK"
   },
   "source": [
    "# Paso 1. Descripción de los datos\n",
    "\n",
    "Lee los archivos de datos (`/datasets/instacart_orders.csv`, `/datasets/products.csv`, `/datasets/aisles.csv`, `/datasets/departments.csv` y `/datasets/order_products.csv`) con `pd.read_csv()` usando los parámetros adecuados para leer los datos correctamente. Verifica la información para cada DataFrame creado.\n"
   ]
  },
  {
   "cell_type": "markdown",
   "id": "OmlQPLlyaAfR",
   "metadata": {
    "id": "OmlQPLlyaAfR"
   },
   "source": [
    "## Plan de solución\n",
    "\n",
    "Escribe aquí tu plan de solución para el Paso 1. Descripción de los datos."
   ]
  },
  {
   "cell_type": "code",
   "execution_count": 1,
   "id": "fbf1adab",
   "metadata": {
    "id": "fbf1adab"
   },
   "outputs": [],
   "source": [
    "import pandas as pd # importar librerías"
   ]
  },
  {
   "cell_type": "code",
   "execution_count": 2,
   "id": "ad36396d",
   "metadata": {
    "id": "ad36396d"
   },
   "outputs": [],
   "source": [
    "orders= pd.read_csv( '/datasets/instacart_orders.csv', sep=';', decimal='.') # leer conjuntos de datos en los DataFrames\n",
    "products= pd.read_csv( '/datasets/products.csv', sep=';')\n",
    "aisle= pd.read_csv( '/datasets/aisles.csv', sep=';')\n",
    "departments= pd.read_csv( '/datasets/departments.csv', sep=';')\n",
    "order_products= pd.read_csv( '/datasets/order_products.csv', sep=';')"
   ]
  },
  {
   "cell_type": "code",
   "execution_count": 3,
   "id": "ad6a1efa",
   "metadata": {
    "id": "ad6a1efa"
   },
   "outputs": [
    {
     "name": "stdout",
     "output_type": "stream",
     "text": [
      "<class 'pandas.core.frame.DataFrame'>\n",
      "RangeIndex: 478967 entries, 0 to 478966\n",
      "Data columns (total 6 columns):\n",
      " #   Column                  Non-Null Count   Dtype  \n",
      "---  ------                  --------------   -----  \n",
      " 0   order_id                478967 non-null  int64  \n",
      " 1   user_id                 478967 non-null  int64  \n",
      " 2   order_number            478967 non-null  int64  \n",
      " 3   order_dow               478967 non-null  int64  \n",
      " 4   order_hour_of_day       478967 non-null  int64  \n",
      " 5   days_since_prior_order  450148 non-null  float64\n",
      "dtypes: float64(1), int64(5)\n",
      "memory usage: 21.9 MB\n"
     ]
    }
   ],
   "source": [
    "orders.info()# mostrar información del DataFrame"
   ]
  },
  {
   "cell_type": "code",
   "execution_count": 4,
   "id": "5130e05e",
   "metadata": {
    "id": "5130e05e"
   },
   "outputs": [
    {
     "name": "stdout",
     "output_type": "stream",
     "text": [
      "<class 'pandas.core.frame.DataFrame'>\n",
      "RangeIndex: 49694 entries, 0 to 49693\n",
      "Data columns (total 4 columns):\n",
      " #   Column         Non-Null Count  Dtype \n",
      "---  ------         --------------  ----- \n",
      " 0   product_id     49694 non-null  int64 \n",
      " 1   product_name   48436 non-null  object\n",
      " 2   aisle_id       49694 non-null  int64 \n",
      " 3   department_id  49694 non-null  int64 \n",
      "dtypes: int64(3), object(1)\n",
      "memory usage: 1.5+ MB\n"
     ]
    }
   ],
   "source": [
    "products.info()# mostrar información del DataFrame"
   ]
  },
  {
   "cell_type": "code",
   "execution_count": 5,
   "id": "d8370c05",
   "metadata": {
    "id": "d8370c05"
   },
   "outputs": [
    {
     "name": "stdout",
     "output_type": "stream",
     "text": [
      "<class 'pandas.core.frame.DataFrame'>\n",
      "RangeIndex: 134 entries, 0 to 133\n",
      "Data columns (total 2 columns):\n",
      " #   Column    Non-Null Count  Dtype \n",
      "---  ------    --------------  ----- \n",
      " 0   aisle_id  134 non-null    int64 \n",
      " 1   aisle     134 non-null    object\n",
      "dtypes: int64(1), object(1)\n",
      "memory usage: 2.2+ KB\n"
     ]
    }
   ],
   "source": [
    "aisle.info()# mostrar información del DataFrame"
   ]
  },
  {
   "cell_type": "code",
   "execution_count": 6,
   "id": "59e2090f",
   "metadata": {
    "id": "59e2090f"
   },
   "outputs": [
    {
     "name": "stdout",
     "output_type": "stream",
     "text": [
      "<class 'pandas.core.frame.DataFrame'>\n",
      "RangeIndex: 21 entries, 0 to 20\n",
      "Data columns (total 2 columns):\n",
      " #   Column         Non-Null Count  Dtype \n",
      "---  ------         --------------  ----- \n",
      " 0   department_id  21 non-null     int64 \n",
      " 1   department     21 non-null     object\n",
      "dtypes: int64(1), object(1)\n",
      "memory usage: 464.0+ bytes\n"
     ]
    }
   ],
   "source": [
    "departments.info()# mostrar información del DataFrame"
   ]
  },
  {
   "cell_type": "code",
   "execution_count": 7,
   "id": "6fc81694",
   "metadata": {
    "id": "6fc81694"
   },
   "outputs": [
    {
     "name": "stdout",
     "output_type": "stream",
     "text": [
      "<class 'pandas.core.frame.DataFrame'>\n",
      "RangeIndex: 4545007 entries, 0 to 4545006\n",
      "Data columns (total 4 columns):\n",
      " #   Column             Dtype  \n",
      "---  ------             -----  \n",
      " 0   order_id           int64  \n",
      " 1   product_id         int64  \n",
      " 2   add_to_cart_order  float64\n",
      " 3   reordered          int64  \n",
      "dtypes: float64(1), int64(3)\n",
      "memory usage: 138.7 MB\n"
     ]
    }
   ],
   "source": [
    "order_products.info()# mostrar información del DataFrame"
   ]
  },
  {
   "cell_type": "markdown",
   "id": "d241f94a-4273-459a-8f10-1941502f1407",
   "metadata": {},
   "source": [
    "<div class=\"alert alert-block alert-success\">\n",
    "<b>Comentario del revisor</b> <a class=\"tocSkip\"></a><br />\n",
    "Correcto!<br/>\n",
    "Buena manera de leer los datos y buenas observaciones iniciales.<br/>\n",
    "    \n",
    "La razón del porque no te aparecen todos los valores del dataframe `order_products` es porque es contiene mucha información y pandas trata de optimizar esto al no mostrar los resultados, pero le podemos indicar que lo haga de cualquier manera utilizando el siguiente argumento:\n",
    "    \n",
    "```\n",
    "order_products.info(show_counts=True)    \n",
    "```    \n",
    "</div>\n"
   ]
  },
  {
   "cell_type": "markdown",
   "id": "t75BD19oaR5f",
   "metadata": {
    "id": "t75BD19oaR5f"
   },
   "source": [
    "## Conclusiones\n",
    "\n",
    "Escribe aquí tus conclusiones intermedias sobre el Paso 1. Descripción de los datos.\n",
    "Primero tuve que llamar a los conjuntos de datos uno por uno usando pd.read_csv, ya que todos los conjuntos eran archivos csv, por otro lado, el separador de todos los dataframes son ';', siguiendo con su información, en los dataframes podemos encontrar valores faltantes que hacen falta limpiar."
   ]
  },
  {
   "cell_type": "markdown",
   "id": "8RJHqxVmaVsF",
   "metadata": {
    "id": "8RJHqxVmaVsF"
   },
   "source": [
    "# Paso 2. Preprocesamiento de los datos\n",
    "\n",
    "Preprocesa los datos de la siguiente manera:\n",
    "\n",
    "- Verifica y corrige los tipos de datos (por ejemplo, asegúrate de que las columnas de ID sean números enteros).\n",
    "- Identifica y completa los valores ausentes.\n",
    "- Identifica y elimina los valores duplicados.\n",
    "\n",
    "Asegúrate de explicar qué tipos de valores ausentes y duplicados encontraste, cómo los completaste o eliminaste y por qué usaste esos métodos. ¿Por qué crees que estos valores ausentes y duplicados pueden haber estado presentes en el conjunto de datos?"
   ]
  },
  {
   "cell_type": "markdown",
   "id": "p6poABZQaZYb",
   "metadata": {
    "id": "p6poABZQaZYb"
   },
   "source": [
    "## Plan de solución\n",
    "\n",
    "Escribe aquí tu plan para el Paso 2. Preprocesamiento de los datos.\n",
    "Mi plan para el procesamiento de datos es asegurarme de que los tipos de datos sean acordes a la columna y sino utilizar .astype(), imputar datos con diferentes métodos."
   ]
  },
  {
   "cell_type": "markdown",
   "id": "07357848-dc64-4156-9cc3-01ff4365226d",
   "metadata": {
    "id": "07357848-dc64-4156-9cc3-01ff4365226d"
   },
   "source": [
    "## Encuentra y elimina los valores duplicados (y describe cómo tomaste tus decisiones)."
   ]
  },
  {
   "cell_type": "markdown",
   "id": "f179f0a9",
   "metadata": {
    "id": "f179f0a9"
   },
   "source": [
    "### `orders` data frame"
   ]
  },
  {
   "cell_type": "code",
   "execution_count": 8,
   "id": "b99297a5-405a-463d-8535-9adc3da4ad74",
   "metadata": {
    "id": "b99297a5-405a-463d-8535-9adc3da4ad74"
   },
   "outputs": [
    {
     "name": "stdout",
     "output_type": "stream",
     "text": [
      "15\n"
     ]
    }
   ],
   "source": [
    "print(orders['order_id'].duplicated().sum())# Revisa si hay pedidos duplicados"
   ]
  },
  {
   "cell_type": "markdown",
   "id": "PEkwUX_gvt5A",
   "metadata": {
    "id": "PEkwUX_gvt5A"
   },
   "source": [
    "¿Tienes líneas duplicadas? Si sí, ¿qué tienen en común?\n",
    "En todas nos podemos encontrar que los duplicados se encuentran en la columna 'order_id'."
   ]
  },
  {
   "cell_type": "code",
   "execution_count": 9,
   "id": "0d44de5d",
   "metadata": {
    "id": "0d44de5d"
   },
   "outputs": [
    {
     "name": "stdout",
     "output_type": "stream",
     "text": [
      "        order_id  user_id  order_number  order_dow  order_hour_of_day  \\\n",
      "4838     2766110   162084            41          3                  2   \n",
      "5156     2190225   138285            18          3                  2   \n",
      "15506     553049    58599            13          3                  2   \n",
      "18420     382357   120200            19          3                  2   \n",
      "24691     690242    77357             2          3                  2   \n",
      "...          ...      ...           ...        ...                ...   \n",
      "457013   3384021    14881             6          3                  2   \n",
      "458816    910166   164782            18          3                  2   \n",
      "459635   1680532   106435             6          3                  2   \n",
      "468324    222962    54979            59          3                  2   \n",
      "477526   2592344    46860            38          3                  2   \n",
      "\n",
      "        days_since_prior_order  \n",
      "4838                      16.0  \n",
      "5156                      11.0  \n",
      "15506                      7.0  \n",
      "18420                     11.0  \n",
      "24691                      9.0  \n",
      "...                        ...  \n",
      "457013                    30.0  \n",
      "458816                     4.0  \n",
      "459635                    21.0  \n",
      "468324                     3.0  \n",
      "477526                     3.0  \n",
      "\n",
      "[121 rows x 6 columns]\n"
     ]
    }
   ],
   "source": [
    "# Basándote en tus hallazgos,\n",
    "print(orders[(orders['order_dow'] == 3) & (orders['order_hour_of_day'] == 2)])# Verifica todos los pedidos que se hicieron el miércoles a las 2:00 a.m.\n"
   ]
  },
  {
   "cell_type": "markdown",
   "id": "vu2OWyoqwOx5",
   "metadata": {
    "id": "vu2OWyoqwOx5"
   },
   "source": [
    "¿Qué sugiere este resultado?"
   ]
  },
  {
   "cell_type": "code",
   "execution_count": 10,
   "id": "3f334a26-9816-4f08-b91d-a95b114c24f6",
   "metadata": {
    "id": "480563c7"
   },
   "outputs": [],
   "source": [
    "# Elimina los pedidos duplicados\n",
    "orders= orders.drop_duplicates()"
   ]
  },
  {
   "cell_type": "code",
   "execution_count": 11,
   "id": "0b2396a2",
   "metadata": {
    "id": "0b2396a2"
   },
   "outputs": [
    {
     "name": "stdout",
     "output_type": "stream",
     "text": [
      "0\n"
     ]
    }
   ],
   "source": [
    "# Vuelve a verificar si hay filas duplicadas\n",
    "print(orders.duplicated().sum())"
   ]
  },
  {
   "cell_type": "code",
   "execution_count": 12,
   "id": "f6113ef1",
   "metadata": {
    "id": "f6113ef1"
   },
   "outputs": [
    {
     "name": "stdout",
     "output_type": "stream",
     "text": [
      "0\n"
     ]
    }
   ],
   "source": [
    "# Vuelve a verificar únicamente si hay IDs duplicados de pedidos\n",
    "print(orders['order_id'].duplicated().sum())"
   ]
  },
  {
   "cell_type": "markdown",
   "id": "5e8905ae",
   "metadata": {
    "id": "5e8905ae"
   },
   "source": [
    "Describe brevemente tus hallazgos y lo que hiciste con ellos. \n",
    "Al encontrar que nuestro dataframe tuviera 15 duplicados, tuve que eliminarlos con el método .drop_duplicates(), y comprobar que haya funcionado, volviendo a verificar si hay duplicados o no."
   ]
  },
  {
   "cell_type": "markdown",
   "id": "db72b07f-a175-42e8-8390-98c5e4a39554",
   "metadata": {},
   "source": [
    "<div class=\"alert alert-block alert-success\">\n",
    "<b>Comentario del revisor</b> <a class=\"tocSkip\"></a><br />\n",
    "Bien hecho!<br/>\n",
    "Los duplicados fueron eliminados correctamente\n",
    "</div>\n"
   ]
  },
  {
   "cell_type": "markdown",
   "id": "45e6bc46",
   "metadata": {
    "id": "45e6bc46"
   },
   "source": [
    "### `products` data frame"
   ]
  },
  {
   "cell_type": "code",
   "execution_count": 13,
   "id": "5f526b5b-8175-46fa-a0fd-441767d50e64",
   "metadata": {
    "id": "5f526b5b-8175-46fa-a0fd-441767d50e64"
   },
   "outputs": [
    {
     "name": "stdout",
     "output_type": "stream",
     "text": [
      "0\n"
     ]
    }
   ],
   "source": [
    "print(products.duplicated().sum())# Verifica si hay filas totalmente duplicadas\n"
   ]
  },
  {
   "cell_type": "code",
   "execution_count": 14,
   "id": "88daa4f4",
   "metadata": {
    "id": "88daa4f4"
   },
   "outputs": [
    {
     "name": "stdout",
     "output_type": "stream",
     "text": [
      "0\n"
     ]
    }
   ],
   "source": [
    "# Revisa únicamente si hay ID de productos duplicados\n",
    "print(products['product_id'].duplicated().sum())"
   ]
  },
  {
   "cell_type": "code",
   "execution_count": 15,
   "id": "c773f0bf",
   "metadata": {
    "id": "c773f0bf"
   },
   "outputs": [
    {
     "name": "stdout",
     "output_type": "stream",
     "text": [
      "1361\n"
     ]
    }
   ],
   "source": [
    "# Revisa únicamente si hay nombres duplicados de productos (convierte los nombres a letras mayúsculas para compararlos mejor)\n",
    "products['product_name']= products['product_name'].str.upper()\n",
    "print(products['product_name'].duplicated().sum())"
   ]
  },
  {
   "cell_type": "code",
   "execution_count": 16,
   "id": "01efd02e",
   "metadata": {
    "id": "01efd02e"
   },
   "outputs": [
    {
     "name": "stdout",
     "output_type": "stream",
     "text": [
      "False    48333\n",
      "True      1361\n",
      "Name: product_name, dtype: int64\n"
     ]
    }
   ],
   "source": [
    "# Revisa si hay nombres duplicados de productos no faltantes\n",
    "print(products['product_name'].duplicated().value_counts(dropna=True))"
   ]
  },
  {
   "cell_type": "markdown",
   "id": "9da8d293",
   "metadata": {
    "id": "9da8d293"
   },
   "source": [
    "Describe brevemente tus hallazgos y lo que hiciste con ellos. Al comienzo no hubo ningun duplicado de filas completamente idénticas, sin embargo si pudimos encontrar duplicados en la columna de 'productos', de ahí convertí los nombres de productos en letras mayúsculas para evitar errores, y encontramos 1361 duplicados de nombres de productos no faltantes."
   ]
  },
  {
   "cell_type": "markdown",
   "id": "7f99f63f-73d7-4202-8714-fb84d07e1037",
   "metadata": {},
   "source": [
    "<div class=\"alert alert-block alert-success\">\n",
    "<b>Comentario del revisor</b> <a class=\"tocSkip\"></a><br />\n",
    "Bien hecho!<br/>\n",
    "Los datos han sido revisados apropiadamente\n",
    "</div>\n"
   ]
  },
  {
   "cell_type": "markdown",
   "id": "60f30db1",
   "metadata": {
    "id": "60f30db1"
   },
   "source": [
    "### `departments` data frame"
   ]
  },
  {
   "cell_type": "code",
   "execution_count": 17,
   "id": "fb410ad4-0fbf-4b80-bb09-23fdea79afe3",
   "metadata": {
    "id": "fb410ad4-0fbf-4b80-bb09-23fdea79afe3"
   },
   "outputs": [
    {
     "name": "stdout",
     "output_type": "stream",
     "text": [
      "0\n"
     ]
    }
   ],
   "source": [
    "print(departments.duplicated().sum())# Revisa si hay filas totalmente duplicadas"
   ]
  },
  {
   "cell_type": "code",
   "execution_count": 18,
   "id": "332b12bb",
   "metadata": {
    "id": "332b12bb"
   },
   "outputs": [
    {
     "name": "stdout",
     "output_type": "stream",
     "text": [
      "0\n"
     ]
    }
   ],
   "source": [
    "print(departments['department_id'].duplicated().sum())# Revisa únicamente si hay IDs duplicadas de departamentos"
   ]
  },
  {
   "cell_type": "markdown",
   "id": "bd30d78e",
   "metadata": {
    "id": "bd30d78e"
   },
   "source": [
    "Describe brevemente tus hallazgos y lo que hiciste con ellos. En este dataframe no encontramos ningún duplicado ni en filas totalmente duplicadas, ni tampoco en la columna de 'id'."
   ]
  },
  {
   "cell_type": "markdown",
   "id": "889349c1",
   "metadata": {
    "id": "889349c1"
   },
   "source": [
    "### `aisles` data frame"
   ]
  },
  {
   "cell_type": "code",
   "execution_count": 19,
   "id": "9da89fb9-4679-40f5-ad0d-c34df753a3f8",
   "metadata": {
    "id": "9da89fb9-4679-40f5-ad0d-c34df753a3f8"
   },
   "outputs": [
    {
     "name": "stdout",
     "output_type": "stream",
     "text": [
      "0\n"
     ]
    }
   ],
   "source": [
    "print(aisle.duplicated().sum())# Revisa si hay filas totalmente duplicadas"
   ]
  },
  {
   "cell_type": "code",
   "execution_count": 20,
   "id": "da7c2822",
   "metadata": {
    "id": "da7c2822"
   },
   "outputs": [
    {
     "name": "stdout",
     "output_type": "stream",
     "text": [
      "0\n"
     ]
    }
   ],
   "source": [
    "print(aisle['aisle_id'].duplicated().sum())# Revisa únicamente si hay IDs duplicadas de pasillos"
   ]
  },
  {
   "cell_type": "markdown",
   "id": "ac63826f",
   "metadata": {
    "id": "ac63826f"
   },
   "source": [
    "Describe brevemente tus hallazgos y lo que hiciste con ellos. Al igual que en el DataFrame de departments, en aisle no hay ningún duplicated que pueda afectar después en nuestro análisis."
   ]
  },
  {
   "cell_type": "markdown",
   "id": "274cd06a",
   "metadata": {
    "id": "274cd06a"
   },
   "source": [
    "### `order_products` data frame"
   ]
  },
  {
   "cell_type": "code",
   "execution_count": 21,
   "id": "52326689-84a8-4b8f-a881-7c68780f62c9",
   "metadata": {
    "id": "52326689-84a8-4b8f-a881-7c68780f62c9"
   },
   "outputs": [
    {
     "name": "stdout",
     "output_type": "stream",
     "text": [
      "0\n"
     ]
    }
   ],
   "source": [
    "# Revisa si hay filas totalmente duplicadas\n",
    "print(order_products.duplicated().sum())"
   ]
  },
  {
   "cell_type": "code",
   "execution_count": 22,
   "id": "7b861391",
   "metadata": {
    "id": "7b861391"
   },
   "outputs": [
    {
     "name": "stdout",
     "output_type": "stream",
     "text": [
      "4545005\n"
     ]
    }
   ],
   "source": [
    "# Vuelve a verificar si hay cualquier otro duplicado engañoso\n",
    "print(order_products['reordered'].duplicated().sum())"
   ]
  },
  {
   "cell_type": "markdown",
   "id": "0b890492",
   "metadata": {
    "id": "0b890492"
   },
   "source": [
    "Describe brevemente tus hallazgos y lo que hiciste con ellos. Order_products cuenta con demasiados duplicados en la columna 'order_id', sin embargo cada fila del DataFrame corresponde a un artículo pedido en un pedido, por lo que los duplicados de 'order_id', se justifican. No tan solo en eso, sino en todas las columnas encontramos el mismo problema.\n",
    "#Tengo una pregunta, ¿este dataframe tiene algún problema con los duplicados?"
   ]
  },
  {
   "cell_type": "markdown",
   "id": "725d4158-73e0-4df2-a5a3-f28a190bbc54",
   "metadata": {},
   "source": [
    "<div class=\"alert alert-block alert-success\">\n",
    "<b>Comentario del revisor</b> <a class=\"tocSkip\"></a><br />\n",
    "Correcto!<br/>\n",
    "Estos últimos dataframes no cuentan con filas totalmente duplicadas.\n",
    "\n",
    "</div>\n"
   ]
  },
  {
   "cell_type": "markdown",
   "id": "1e46de76",
   "metadata": {
    "id": "1e46de76"
   },
   "source": [
    "## Encuentra y elimina los valores ausentes\n",
    "\n",
    "Al trabajar con valores duplicados, pudimos observar que también nos falta investigar valores ausentes:\n",
    "\n",
    "* La columna `'product_name'` de la tabla products.\n",
    "* La columna `'days_since_prior_order'` de la tabla orders.\n",
    "* La columna `'add_to_cart_order'` de la tabla order_productos."
   ]
  },
  {
   "cell_type": "markdown",
   "id": "c0aebd78",
   "metadata": {
    "id": "c0aebd78"
   },
   "source": [
    "### `products` data frame"
   ]
  },
  {
   "cell_type": "code",
   "execution_count": 23,
   "id": "fe4a8b0f",
   "metadata": {
    "id": "fe4a8b0f"
   },
   "outputs": [
    {
     "name": "stdout",
     "output_type": "stream",
     "text": [
      "1258\n"
     ]
    }
   ],
   "source": [
    "val_ausentes= products['product_name'].isna().sum()\n",
    "print(val_ausentes) # Encuentra los valores ausentes en la columna 'product_name'"
   ]
  },
  {
   "cell_type": "markdown",
   "id": "-A6x1AbJhjkp",
   "metadata": {
    "id": "-A6x1AbJhjkp"
   },
   "source": [
    "Describe brevemente cuáles son tus hallazgos. Pudimos encontrar 1258 valores ausentes en la columna de 'product_name', por lo que deben de ser reemplazados o eliminar la fila completa."
   ]
  },
  {
   "cell_type": "code",
   "execution_count": 24,
   "id": "e96167bc",
   "metadata": {
    "id": "e96167bc"
   },
   "outputs": [
    {
     "name": "stdout",
     "output_type": "stream",
     "text": [
      "      product_name  aisle_id\n",
      "37             NaN       100\n",
      "71             NaN       100\n",
      "109            NaN       100\n",
      "296            NaN       100\n",
      "416            NaN       100\n",
      "...            ...       ...\n",
      "49552          NaN       100\n",
      "49574          NaN       100\n",
      "49640          NaN       100\n",
      "49663          NaN       100\n",
      "49668          NaN       100\n",
      "\n",
      "[1258 rows x 2 columns]\n"
     ]
    }
   ],
   "source": [
    "#  ¿Todos los nombres de productos ausentes están relacionados con el pasillo con ID 100?\n",
    "print(products.query('aisle_id == 100')[['product_name', 'aisle_id']])"
   ]
  },
  {
   "cell_type": "markdown",
   "id": "WRpIfXRphpSL",
   "metadata": {
    "id": "WRpIfXRphpSL"
   },
   "source": [
    "Describe brevemente cuáles son tus hallazgos. Después de una exaustiva investigación para poder apreciar las filas donde hay nombres faltantes en la columna 'product_name' y tengan un id de 100 en la columna 'aisle_id', podemos decir que si están relacionados el id de pasillo con los nombres faltantes del producto."
   ]
  },
  {
   "cell_type": "code",
   "execution_count": 25,
   "id": "8fd0a541",
   "metadata": {
    "id": "8fd0a541"
   },
   "outputs": [
    {
     "name": "stdout",
     "output_type": "stream",
     "text": [
      "      product_name  department_id\n",
      "37             NaN             21\n",
      "71             NaN             21\n",
      "109            NaN             21\n",
      "296            NaN             21\n",
      "416            NaN             21\n",
      "...            ...            ...\n",
      "49552          NaN             21\n",
      "49574          NaN             21\n",
      "49640          NaN             21\n",
      "49663          NaN             21\n",
      "49668          NaN             21\n",
      "\n",
      "[1258 rows x 2 columns]\n"
     ]
    }
   ],
   "source": [
    "# ¿Todos los nombres de productos ausentes están relacionados con el departamento con ID 21?\n",
    "print(products.query('department_id == 21')[['product_name', 'department_id']])"
   ]
  },
  {
   "cell_type": "markdown",
   "id": "qDpdYn1Fht_I",
   "metadata": {
    "id": "qDpdYn1Fht_I"
   },
   "source": [
    "Describe brevemente cuáles son tus hallazgos. Gracias al código anterior tuvimos grandes hallazgos, tanto el id 21 de departamento y los nombres faltantes del DataFrame estan relacionados. Esto quiere decir que hay una relación mayor entre las columnas 'product_name', 'aisle_id' y 'department_id'."
   ]
  },
  {
   "cell_type": "code",
   "execution_count": 26,
   "id": "325c3464",
   "metadata": {
    "id": "325c3464"
   },
   "outputs": [
    {
     "name": "stdout",
     "output_type": "stream",
     "text": [
      "       product_id product_name  aisle_id  department_id\n",
      "37             38          NaN       100             21\n",
      "71             72          NaN       100             21\n",
      "109           110          NaN       100             21\n",
      "296           297          NaN       100             21\n",
      "416           417          NaN       100             21\n",
      "...           ...          ...       ...            ...\n",
      "49552       49553          NaN       100             21\n",
      "49574       49575          NaN       100             21\n",
      "49640       49641          NaN       100             21\n",
      "49663       49664          NaN       100             21\n",
      "49668       49669          NaN       100             21\n",
      "\n",
      "[1258 rows x 4 columns]\n"
     ]
    }
   ],
   "source": [
    "# Usa las tablas department y aisle para revisar los datos del pasillo con ID 100 y el departamento con ID 21.\n",
    "#tab_dep= products['department_id']==21.intento de código\n",
    "#tab_ais= products['aisle_id']==100.intento de código\n",
    "print(products[(products['department_id']==21) & (products['aisle_id'] == 100)])\n",
    "#[(products['department_id']==100) & (products['aisle_id'] == 21)]).intento de código"
   ]
  },
  {
   "cell_type": "markdown",
   "id": "nqhSTUPhhvEJ",
   "metadata": {
    "id": "nqhSTUPhhvEJ"
   },
   "source": [
    "Describe brevemente cuáles son tus hallazgos. Se puede apreciar claramente que hay una tendencia para los nombres de productos ausentes, un id de pasillo 100 y un id de departamento 100."
   ]
  },
  {
   "cell_type": "code",
   "execution_count": 27,
   "id": "6b295120",
   "metadata": {
    "id": "6b295120"
   },
   "outputs": [
    {
     "name": "stdout",
     "output_type": "stream",
     "text": [
      "None\n",
      "0\n"
     ]
    }
   ],
   "source": [
    "# Completa los nombres de productos ausentes con 'Unknown'\n",
    "print(products['product_name'].fillna('Unkown', inplace=True))\n",
    "print(products['product_name'].isna().sum())"
   ]
  },
  {
   "cell_type": "markdown",
   "id": "fc70e5ad",
   "metadata": {
    "id": "fc70e5ad"
   },
   "source": [
    "Describe brevemente tus hallazgos y lo que hiciste con ellos. Ahora que sabemos cuales son los valores faltantes, podemos decidir reemplazarlo por la palabra 'Unkown', ya que es un nombre de producto que no conocemos pero sabemos que existe."
   ]
  },
  {
   "cell_type": "markdown",
   "id": "dcfd2f86-eccf-40e4-92ff-780a86cc604c",
   "metadata": {},
   "source": [
    "<div class=\"alert alert-block alert-success\">\n",
    "<b>Comentario del revisor</b> <a class=\"tocSkip\"></a><br />\n",
    "Bien hecho!<br/>\n",
    "La manera de encontrar los valores ausentes y reemplazarlos con un valor generico es correcta\n",
    "</div>\n"
   ]
  },
  {
   "cell_type": "markdown",
   "id": "7eb45c86",
   "metadata": {
    "id": "7eb45c86"
   },
   "source": [
    "### `orders` data frame"
   ]
  },
  {
   "cell_type": "code",
   "execution_count": 28,
   "id": "93e41d96",
   "metadata": {
    "id": "93e41d96"
   },
   "outputs": [
    {
     "name": "stdout",
     "output_type": "stream",
     "text": [
      "order_id                      0\n",
      "user_id                       0\n",
      "order_number                  0\n",
      "order_dow                     0\n",
      "order_hour_of_day             0\n",
      "days_since_prior_order    28817\n",
      "dtype: int64\n"
     ]
    }
   ],
   "source": [
    "print(orders.isna().sum())# Encuentra los valores ausentes"
   ]
  },
  {
   "cell_type": "code",
   "execution_count": 29,
   "id": "166e5a86",
   "metadata": {
    "id": "166e5a86"
   },
   "outputs": [
    {
     "name": "stdout",
     "output_type": "stream",
     "text": [
      "Empty DataFrame\n",
      "Columns: [order_id, user_id, order_number, order_dow, order_hour_of_day, days_since_prior_order]\n",
      "Index: []\n"
     ]
    }
   ],
   "source": [
    "# ¿Hay algún valor ausente que no sea el primer pedido del cliente?\n",
    "ausente_no1= orders[(orders['days_since_prior_order'].isna()) & (orders['order_number'] !=1)]\n",
    "print(ausente_no1)"
   ]
  },
  {
   "cell_type": "markdown",
   "id": "4e23d089",
   "metadata": {
    "id": "4e23d089"
   },
   "source": [
    "Describe brevemente tus hallazgos y lo que hiciste con ellos. Se podría decir que no hay ningún valor ausente donde no sea el primer pedido del cliente, en otras palabras, sin no hay valor en 'days_since_prior_order', quiere decir que es la primera vez que el cliente realiza un pedido."
   ]
  },
  {
   "cell_type": "markdown",
   "id": "23c22da4-80bc-47b0-aead-921abc1c002d",
   "metadata": {},
   "source": [
    "<div class=\"alert alert-block alert-success\">\n",
    "<b>Comentario del revisor</b> <a class=\"tocSkip\"></a><br />\n",
    "Bien hecho!<br/>\n",
    "Buena manera de revisar los datos y encontrar que no hay ausentes que no sean un primer pedido\n",
    "</div>\n"
   ]
  },
  {
   "cell_type": "markdown",
   "id": "3319c04c-dc30-4c53-a3d7-7bdd460ea57b",
   "metadata": {},
   "source": [
    "<div class=\"alert alert-block alert-success\">\n",
    "<b>Respuesta del estudiante</b> <a class=\"tocSkip\"></a><br />\n",
    "\n",
    "Disculpe,¿ el paso (30) es correcto?, donde dice ¿Hay algún valor ausente que no sea el primer pedido del cliente?, habrá otra forma de responder la respuesta con otro código, gracias. ¿Cómo hago el recuadro azul?\n",
    "</div>\n"
   ]
  },
  {
   "cell_type": "markdown",
   "id": "69dc9ca4",
   "metadata": {
    "id": "69dc9ca4"
   },
   "source": [
    "### `order_products` data frame"
   ]
  },
  {
   "cell_type": "code",
   "execution_count": 30,
   "id": "b8240253",
   "metadata": {
    "id": "b8240253"
   },
   "outputs": [
    {
     "name": "stdout",
     "output_type": "stream",
     "text": [
      "order_id               0\n",
      "product_id             0\n",
      "add_to_cart_order    836\n",
      "reordered              0\n",
      "dtype: int64\n"
     ]
    }
   ],
   "source": [
    "print(order_products.isna().sum())# Encuentra los valores ausentes"
   ]
  },
  {
   "cell_type": "code",
   "execution_count": 31,
   "id": "9a78e5ee",
   "metadata": {
    "id": "9a78e5ee"
   },
   "outputs": [
    {
     "name": "stdout",
     "output_type": "stream",
     "text": [
      "1.0 64.0\n"
     ]
    }
   ],
   "source": [
    "# ¿Cuáles son los valores mínimos y máximos en esta columna?\n",
    "print(order_products['add_to_cart_order'].min(),order_products['add_to_cart_order'].max())"
   ]
  },
  {
   "cell_type": "markdown",
   "id": "-Z2Ja215jW78",
   "metadata": {
    "id": "-Z2Ja215jW78"
   },
   "source": [
    "Describe brevemente cuáles son tus hallazgos. Hemos descubierto que el mínimo de productos agregados al carrito es de 1 y el mayor número ha sido de 64."
   ]
  },
  {
   "cell_type": "code",
   "execution_count": 32,
   "id": "ab9d0c2b",
   "metadata": {
    "id": "ab9d0c2b"
   },
   "outputs": [
    {
     "name": "stdout",
     "output_type": "stream",
     "text": [
      "737        2449164\n",
      "9926       1968313\n",
      "14394      2926893\n",
      "16418      1717990\n",
      "30114      1959075\n",
      "            ...   \n",
      "4505662    1800005\n",
      "4511400    1633337\n",
      "4517562     404157\n",
      "4534112    1673227\n",
      "4535739    1832957\n",
      "Name: order_id, Length: 836, dtype: int64\n"
     ]
    }
   ],
   "source": [
    "# Guarda todas las IDs de pedidos que tengan un valor ausente en 'add_to_cart_order'\n",
    "ausentes= order_products[order_products['add_to_cart_order'].isna()]\n",
    "#ids_pedidos_ausentes= ausentes[['order_id', 'add_to_cart_order']]\n",
    "ids_pedidos_ausentes= ausentes['order_id']\n",
    "print(ids_pedidos_ausentes)"
   ]
  },
  {
   "cell_type": "code",
   "execution_count": 33,
   "id": "54c31695",
   "metadata": {
    "id": "54c31695"
   },
   "outputs": [
    {
     "name": "stdout",
     "output_type": "stream",
     "text": [
      "[2449164, 1968313, 2926893, 1717990, 1959075, 844733, 61355, 936852, 264710, 1564093, 129627, 293169, 2849370, 1386261, 3308010, 903110, 2136777, 3347453, 1888628, 165801, 2094761, 1038146, 2997021, 813364, 2256933, 171934, 2409109, 1730767, 1169835, 733526, 404157, 3125735, 747668, 1800005, 1961723, 871281, 388234, 1648217, 1477139, 102236, 1021563, 1832957, 2721963, 678116, 1220886, 1673227, 2999801, 1633337, 2470674, 2625444, 1677118, 2479011, 3383594, 1183255, 1713430, 2652650, 1598369, 1916118, 854647, 1302315, 888470, 180546, 2621907, 1308785, 2729254, 9310, 2170451, 2979697, 1625713, 1529171]\n"
     ]
    }
   ],
   "source": [
    "# ¿Todos los pedidos con valores ausentes tienen más de 64 productos?\n",
    "# Agrupa todos los pedidos con datos ausentes por su ID de pedido.\n",
    "# Cuenta el número de 'product_id' en cada pedido y revisa el valor mínimo del conteo.\n",
    "miss_cart_order_id= order_products[order_products['add_to_cart_order'].isna()]['order_id'].unique().tolist()\n",
    "print(miss_cart_order_id)\n"
   ]
  },
  {
   "cell_type": "code",
   "execution_count": 34,
   "id": "2bc24bf1-9aac-4ac0-8da1-9817dc5b3780",
   "metadata": {},
   "outputs": [
    {
     "name": "stdout",
     "output_type": "stream",
     "text": [
      "order_id\n",
      "9310        65\n",
      "747668      65\n",
      "1598369     65\n",
      "1677118     65\n",
      "2170451     65\n",
      "          ... \n",
      "1959075     98\n",
      "171934     104\n",
      "2136777    108\n",
      "3308010    115\n",
      "61355      127\n",
      "Name: product_id, Length: 70, dtype: int64\n"
     ]
    }
   ],
   "source": [
    "nulo= order_products[order_products['order_id'].isin(miss_cart_order_id)].groupby(by='order_id')['product_id'].count().sort_values()\n",
    "print(nulo)"
   ]
  },
  {
   "cell_type": "markdown",
   "id": "p9V6pddtjglj",
   "metadata": {
    "id": "p9V6pddtjglj"
   },
   "source": [
    "Describe brevemente cuáles son tus hallazgos. Se pudo descubrir que en las filas con valores faltantes de la columna 'order_id', se encuentras mas productos en cada pedido que 64 (65 a 127 productos en un pedido!)"
   ]
  },
  {
   "cell_type": "code",
   "execution_count": 35,
   "id": "7a987d08",
   "metadata": {
    "id": "7a987d08"
   },
   "outputs": [
    {
     "name": "stdout",
     "output_type": "stream",
     "text": [
      "None\n",
      "0          17\n",
      "1           1\n",
      "2           1\n",
      "3          35\n",
      "4           5\n",
      "           ..\n",
      "4545002    12\n",
      "4545003     9\n",
      "4545004     4\n",
      "4545005     8\n",
      "4545006     9\n",
      "Name: add_to_cart_order, Length: 4545007, dtype: int64\n",
      "999.0\n"
     ]
    }
   ],
   "source": [
    "# Remplaza los valores ausentes en la columna 'add_to_cart? con 999 y convierte la columna al tipo entero.\n",
    "print(order_products['add_to_cart_order'].fillna(999,inplace=True))\n",
    "print(order_products['add_to_cart_order'].astype('int'))\n",
    "print(order_products['add_to_cart_order'].max())"
   ]
  },
  {
   "cell_type": "markdown",
   "id": "fea4bcc7",
   "metadata": {
    "id": "fea4bcc7"
   },
   "source": [
    "Describe brevemente tus hallazgos y lo que hiciste con ellos."
   ]
  },
  {
   "cell_type": "markdown",
   "id": "e1e2eaed-c604-4b7f-9112-204df5ca5b64",
   "metadata": {},
   "source": [
    "<div class=\"alert alert-block alert-success\">\n",
    "<b>Comentario del revisor</b> <a class=\"tocSkip\"></a><br />\n",
    "Bien hecho!<br/>\n",
    "La manera de encontrar los valores ausentes y reemplazarlos con un valor generico es correcta\n",
    "</div>\n"
   ]
  },
  {
   "cell_type": "markdown",
   "id": "RnplPFY1gSrb",
   "metadata": {
    "id": "RnplPFY1gSrb"
   },
   "source": [
    "## Conclusiones\n",
    "\n",
    "Escribe aquí tus conclusiones intermedias sobre el Paso 2. Preprocesamiento de los datos\n",
    "La labor mas difícil y que conlleva mayor tiempo es la de limpiar datos, pudimos recopilar valiosos insights, trabajamos en quitar duplicados, valores faltantes y en agrupamiento de datos, además de filtrar dataframes con query, entre otras.\n"
   ]
  },
  {
   "cell_type": "markdown",
   "id": "UjrOIwTcz3ri",
   "metadata": {
    "id": "UjrOIwTcz3ri"
   },
   "source": [
    "# Paso 3. Análisis de los datos\n",
    "\n",
    "Una vez los datos estén procesados y listos, haz el siguiente análisis:"
   ]
  },
  {
   "cell_type": "markdown",
   "id": "turkish-kidney",
   "metadata": {
    "id": "turkish-kidney"
   },
   "source": [
    "# [A] Fácil (deben completarse todos para aprobar)\n",
    "\n",
    "1. Verifica que los valores en las columnas `'order_hour_of_day'` y `'order_dow'` en la tabla orders sean razonables (es decir, `'order_hour_of_day'` oscile entre 0 y 23 y `'order_dow'` oscile entre 0 y 6).\n",
    "2. Crea un gráfico que muestre el número de personas que hacen pedidos dependiendo de la hora del día.\n",
    "3. Crea un gráfico que muestre qué día de la semana la gente hace sus compras.\n",
    "4. Crea un gráfico que muestre el tiempo que la gente espera hasta hacer su siguiente pedido, y comenta sobre los valores mínimos y máximos."
   ]
  },
  {
   "cell_type": "markdown",
   "id": "short-capability",
   "metadata": {
    "id": "short-capability"
   },
   "source": [
    "### [A1] Verifica que los valores sean sensibles"
   ]
  },
  {
   "cell_type": "code",
   "execution_count": 36,
   "id": "growing-fruit",
   "metadata": {
    "id": "growing-fruit"
   },
   "outputs": [
    {
     "name": "stdout",
     "output_type": "stream",
     "text": [
      "470819     0\n",
      "5371       0\n",
      "381617     0\n",
      "68665      0\n",
      "304638     0\n",
      "          ..\n",
      "59727     23\n",
      "333981    23\n",
      "322728    23\n",
      "429429    23\n",
      "138931    23\n",
      "Name: order_hour_of_day, Length: 478952, dtype: int64\n"
     ]
    }
   ],
   "source": [
    "print(orders['order_hour_of_day'].sort_values())"
   ]
  },
  {
   "cell_type": "code",
   "execution_count": 37,
   "id": "accessory-malaysia",
   "metadata": {
    "id": "accessory-malaysia"
   },
   "outputs": [
    {
     "name": "stdout",
     "output_type": "stream",
     "text": [
      "361497    0\n",
      "420869    0\n",
      "358797    0\n",
      "62194     0\n",
      "62193     0\n",
      "         ..\n",
      "160821    6\n",
      "160834    6\n",
      "160836    6\n",
      "160912    6\n",
      "0         6\n",
      "Name: order_dow, Length: 478952, dtype: int64\n"
     ]
    }
   ],
   "source": [
    "print(orders['order_dow'].sort_values())"
   ]
  },
  {
   "cell_type": "markdown",
   "id": "hmR2GNQ6lCsX",
   "metadata": {
    "id": "hmR2GNQ6lCsX"
   },
   "source": [
    "Escribe aquí tus conclusiones. Gracias a sort_values() se puede apreciar los números mínimas y máximas que manejan y deben de manejar."
   ]
  },
  {
   "cell_type": "markdown",
   "id": "12cb277d-e12f-4f16-ba24-ee46fd0c5989",
   "metadata": {},
   "source": [
    "<div class=\"alert alert-block alert-success\">\n",
    "<b>Comentario del revisor</b> <a class=\"tocSkip\"></a><br />\n",
    "Bien hecho!<br/>\n",
    "Se verificó que los datos sean sensibles correctamente\n",
    "</div>\n"
   ]
  },
  {
   "cell_type": "markdown",
   "id": "a6743a70",
   "metadata": {
    "id": "a6743a70"
   },
   "source": [
    "### [A2] Para cada hora del día, ¿cuántas personas hacen órdenes?"
   ]
  },
  {
   "cell_type": "markdown",
   "id": "7189f1fc-4982-42ca-97b4-adf3a983e8d4",
   "metadata": {},
   "source": [
    "<div class=\"alert alert-block alert-danger\">\n",
    "<b>Respuesta del Estudiante</b> <a class=\"tocSkip\"></a><br />\n",
    "\n",
    "Muchas gracias por el ejemplo, pero es que yo no conocía ese método que usted utilizó, ya que en el sprint 4 no me enseñó nada de esta forma de código,  incluyendo .xticks(), .tight_layout.(), los parámetros de .grid(). Me podría decir por favor si hay otra forma de código como la que el sprint 4 nos enseñó, ej.:<br/>\n",
    "orders.plot(title='', x='', y='', etc)<br/>\n",
    "plt.show()<br/>\n",
    "Ya que al ejecutar el código me dice que orders no se identifica y no entiendo porque.<br/>\n",
    "O podría explicarme que hace este código, me deja confundida, gracias\n",
    "</div>\n"
   ]
  },
  {
   "cell_type": "markdown",
   "id": "a0549600-c048-436e-ab6d-3502f5515a1b",
   "metadata": {},
   "source": [
    "<div class=\"alert alert-block alert-warning\">\n",
    "<b>Comentario del revisor</b> <a class=\"tocSkip\"></a><br />\n",
    "\n",
    "Entiendo que no todo esto se haya visto en el Sprint, son cosas que se agregaron para hacer una gráfica más completa y que pudieras ver toda la personalización que se puede agregar a la gráfica, esos métodos que mencionas no son necesarios para que la gráfica funcione (te dejo el ejemplo debajo con esos métodos comentados), pero te explico para que es cada uno:\n",
    "\n",
    "- `plt.xlabel`: Agrega el nombre en el eje X\n",
    "- `plt.ylabel`: Agrega el nombre en el eje Y\n",
    "- `plt.title`: Agrega el titulo a la gáfica\n",
    "- `plt.xticks`: Son las etiquetas que hay en el eje X, al agregar `range(24)` le estamos indicando que debe mostrar 24 etiquetas (de 0 a 23)\n",
    "- `plt.grid`: Agrega la cuadricula, `axis = y` le indicamos que la cuadricula debe estar en el eje Y, si le quitamos el axis, agrega la cuadricula en ambos ejes, con `linestyle='--'` le indicamos que la cuadricula debe ser dibujada con una línea no continua, `alpha=0.7` le estamos indicando que la cuadricula esta al `70%` de visibilidad\n",
    "</div>\n"
   ]
  },
  {
   "cell_type": "code",
   "execution_count": 99,
   "id": "9932c8b4-01f8-4ec1-a7c1-f663bcc0d8a1",
   "metadata": {},
   "outputs": [
    {
     "data": {
      "image/png": "[encoded data removed]",
      "text/plain": [
       "<Figure size 640x480 with 1 Axes>"
      ]
     },
     "metadata": {},
     "output_type": "display_data"
    }
   ],
   "source": [
    "# Código del revisor\n",
    "from matplotlib import pyplot as plt\n",
    "\n",
    "# Se hace un conteo de los pedidos por hora\n",
    "order_counts = orders['order_hour_of_day'].value_counts().sort_index()\n",
    "\n",
    "# Se hace una grafica de barras\n",
    "plt.bar(order_counts.index, order_counts.values)\n",
    "#plt.xlabel('Hora del día')\n",
    "#plt.ylabel('Número de pedidos')\n",
    "#plt.title('Pedidos por hora')\n",
    "#plt.xticks(range(24))  # Ensure all 24 hours are shown\n",
    "#plt.grid(axis='y', linestyle='--', alpha=0.7)\n",
    "#plt.tight_layout()\n",
    "plt.show()"
   ]
  },
  {
   "cell_type": "code",
   "execution_count": 75,
   "id": "3f2f1b9f-d0a8-4272-9f97-4e4341cb2773",
   "metadata": {
    "id": "a36cca27"
   },
   "outputs": [
    {
     "data": {
      "image/png": "[encoded data removed]",
      "text/plain": [
       "<Figure size 640x480 with 1 Axes>"
      ]
     },
     "metadata": {},
     "output_type": "display_data"
    }
   ],
   "source": [
    "from matplotlib import pyplot as plt\n",
    "order_counts = orders['order_hour_of_day'].value_counts().sort_index()\n",
    "\n",
    "plt.bar(order_counts.index, order_counts.values)\n",
    "plt.xlabel('Hora del día')\n",
    "plt.ylabel('Número de pedidos')\n",
    "plt.title('Pedidos por hora')\n",
    "plt.xticks(range(24)) \n",
    "plt.grid(axis='y', linestyle='--', alpha=0.7)\n",
    "plt.tight_layout()\n",
    "plt.show()"
   ]
  },
  {
   "cell_type": "markdown",
   "id": "1a756149-9084-43db-89bc-135cc2b1ed99",
   "metadata": {},
   "source": [
    "<div class=\"alert alert-block alert-warning\">\n",
    "<b>Comentario del revisor</b> <a class=\"tocSkip\"></a><br />\n",
    "Cuidado!<br/>\n",
    "Los datos se deberian leer solo una vez durante todo el proyecto\n",
    "</div>\n"
   ]
  },
  {
   "cell_type": "code",
   "execution_count": 73,
   "id": "00ecad41-5222-4d2d-8e56-d9312657ac61",
   "metadata": {},
   "outputs": [
    {
     "data": {
      "image/png": "[encoded data removed]",
      "text/plain": [
       "<Figure size 640x480 with 1 Axes>"
      ]
     },
     "metadata": {},
     "output_type": "display_data"
    }
   ],
   "source": [
    "# Código del revisor\n",
    "from matplotlib import pyplot as plt\n",
    "\n",
    "# Se hace un conteo de los pedidos por hora\n",
    "order_counts = orders['order_hour_of_day'].value_counts().sort_index()\n",
    "\n",
    "# Se hace una grafica de barras\n",
    "plt.bar(order_counts.index, order_counts.values)\n",
    "plt.xlabel('Hora del día')\n",
    "plt.ylabel('Número de pedidos')\n",
    "plt.title('Pedidos por hora')\n",
    "plt.xticks(range(24))  # Ensure all 24 hours are shown\n",
    "plt.grid(axis='y', linestyle='--', alpha=0.7)\n",
    "plt.tight_layout()\n",
    "plt.show()"
   ]
  },
  {
   "cell_type": "markdown",
   "id": "6b18a4d7-7915-47c1-bff5-40f27a94ddc2",
   "metadata": {},
   "source": [
    "<div class=\"alert alert-block alert-danger\">\n",
    "<b>Comentario del revisor</b> <a class=\"tocSkip\"></a><br />\n",
    "\n",
    "Te dejo este ejemplo de grafica de barras para que lo apliques en los siguientes ejercicios\n",
    "</div>\n"
   ]
  },
  {
   "cell_type": "markdown",
   "id": "11270eed",
   "metadata": {
    "id": "11270eed"
   },
   "source": [
    "Gracias a la gráfica de barras podemos ver la gran diferencia de pedidos por hora, donde la hora con más pedidos es a las 10am. La gráfica de barras necesita de un valor categórico, en este caso las horas del día, siendo la variable independiente y un valor numérico, el número de pedidos, el valor dependiente."
   ]
  },
  {
   "cell_type": "markdown",
   "id": "documented-command",
   "metadata": {
    "id": "documented-command"
   },
   "source": [
    "### [A3] ¿Qué día de la semana compran víveres las personas?"
   ]
  },
  {
   "cell_type": "code",
   "execution_count": 40,
   "id": "3f35c546-42d6-4ebe-a7a3-b12928d9aeff",
   "metadata": {},
   "outputs": [
    {
     "data": {
      "text/plain": [
       "4    59810\n",
       "3    60897\n",
       "6    62649\n",
       "5    63488\n",
       "2    65833\n",
       "1    82185\n",
       "0    84090\n",
       "Name: order_dow, dtype: int64"
      ]
     },
     "execution_count": 40,
     "metadata": {},
     "output_type": "execute_result"
    }
   ],
   "source": [
    "orders['order_dow'].value_counts().sort_values()"
   ]
  },
  {
   "cell_type": "code",
   "execution_count": 41,
   "id": "fade42d2-6215-42cb-9d10-4fcb394d21f4",
   "metadata": {
    "id": "chief-digit"
   },
   "outputs": [
    {
     "data": {
      "image/png": "[encoded data removed]",
      "text/plain": [
       "<Figure size 640x480 with 1 Axes>"
      ]
     },
     "metadata": {},
     "output_type": "display_data"
    }
   ],
   "source": [
    "day_counts= orders['order_dow'].value_counts().sort_index()\n",
    "\n",
    "plt.bar(day_counts.index, day_counts.values)\n",
    "plt.title('Compras por día de la semana')\n",
    "plt.xlabel('Día de la semana empezando por Domingo(0)')\n",
    "plt.ylabel('Número de Compras')\n",
    "plt.xticks(range(7))\n",
    "#plt.tight_layout()\n",
    "plt.grid(axis='y', linestyle='--', alpha=0.5)\n",
    "plt.show()"
   ]
  },
  {
   "cell_type": "markdown",
   "id": "dominant-lightning",
   "metadata": {
    "id": "dominant-lightning"
   },
   "source": [
    "En esta gráfica de barras 0 es Domingo y termina el 6 (Sábado), podemos leer que el día donde más compran las personas son los Domingos, con un pequeña diferencia a Lunes, a partir de ahí las ventas bajan significativamente para los días de martes a sábado."
   ]
  },
  {
   "cell_type": "markdown",
   "id": "42a85799-ece0-4f6c-afa3-6c5804ed5422",
   "metadata": {},
   "source": [
    "<div class=\"alert alert-block alert-success\">\n",
    "<b>Comentario del revisor</b> <a class=\"tocSkip\"></a><br />\n",
    "Correcto!<br/>\n",
    "Los domingos son los días preferidos de los clientes\n",
    "</div>\n"
   ]
  },
  {
   "cell_type": "markdown",
   "id": "cutting-concert",
   "metadata": {
    "id": "cutting-concert"
   },
   "source": [
    "### [A4] ¿Cuánto tiempo esperan las personas hasta hacer otro pedido? Comenta sobre los valores mínimos y máximos."
   ]
  },
  {
   "cell_type": "code",
   "execution_count": 42,
   "id": "9680d9ef-a1b0-4cb0-87c1-0758c377f9cb",
   "metadata": {
    "id": "c231f523"
   },
   "outputs": [
    {
     "data": {
      "image/png": "[encoded data removed]",
      "text/plain": [
       "<Figure size 640x480 with 1 Axes>"
      ]
     },
     "metadata": {},
     "output_type": "display_data"
    }
   ],
   "source": [
    "#waiting_time= orders['days_since_prior_order'].dropna().sort_values()\n",
    "#print(waiting_time)\n",
    "#print()\n",
    "#print('Valor mínimo de tiempo de espera:', waiting_time.min())\n",
    "#print('Valor máximo de tiempo de espera:', waiting_time.max())\n",
    "waiting_time= orders['days_since_prior_order'].value_counts().sort_index()\n",
    "plt.bar(waiting_time.index, waiting_time.values)\n",
    "plt.xlabel('Días desde el último pedido')\n",
    "plt.ylabel('Número de pedidos')\n",
    "plt.title('Tiempo de espera antes de hacer otro pedido')\n",
    "plt.xticks(range(31))  \n",
    "plt.grid( axis='x', linestyle='--', alpha=0.7)\n",
    "plt.tight_layout()\n",
    "plt.show()"
   ]
  },
  {
   "cell_type": "markdown",
   "id": "discrete-vertex",
   "metadata": {
    "id": "discrete-vertex"
   },
   "source": [
    "El día 26 es el  valor mínimo antes de hacer otro pedido, por otro lado las personas esperan más hasta el día 30 antes de comprar."
   ]
  },
  {
   "cell_type": "markdown",
   "id": "a1f0aae7-b274-47c5-a30a-e91673c25df2",
   "metadata": {},
   "source": [
    "<div class=\"alert alert-block alert-success\">\n",
    "<b>Comentario del revisor</b> <a class=\"tocSkip\"></a><br />\n",
    "Corregido!<br/>\n",
    "\n",
    "</div>\n"
   ]
  },
  {
   "cell_type": "markdown",
   "id": "24d25cbc-4116-4efe-8096-57e25dde7352",
   "metadata": {},
   "source": [
    "<div class=\"alert alert-block alert-danger\">\n",
    "<b>Comentario del revisor</b> <a class=\"tocSkip\"></a><br />\n",
    "\n",
    "Te dejo este ejemplo de un histograma para que lo apliques en los siguientes ejercicios\n",
    "</div>\n"
   ]
  },
  {
   "cell_type": "code",
   "execution_count": 43,
   "id": "b2b1f042-b5b2-45c3-97a1-f02226a7d4b5",
   "metadata": {},
   "outputs": [
    {
     "data": {
      "image/png": "[encoded data removed]",
      "text/plain": [
       "<Figure size 640x480 with 1 Axes>"
      ]
     },
     "metadata": {},
     "output_type": "display_data"
    }
   ],
   "source": [
    "# Código del revisor\n",
    "orders['days_since_prior_order'].hist(bins=30)\n",
    "plt.xlabel('Días desde el último pedido')\n",
    "plt.ylabel('Número de pedidos')\n",
    "plt.title('Tiempo de espera hasta el próximo pedido')\n",
    "plt.show()"
   ]
  },
  {
   "cell_type": "markdown",
   "id": "tight-staff",
   "metadata": {
    "id": "tight-staff"
   },
   "source": [
    "# [B] Intermedio (deben completarse todos para aprobar)\n",
    "\n",
    "1. ¿Existe alguna diferencia entre las distribuciones `'order_hour_of_day'` de los miércoles y los sábados? Traza gráficos de barra de `'order_hour_of_day'` para ambos días en la misma figura y describe las diferencias que observes.\n",
    "2. Grafica la distribución para el número de órdenes que hacen los clientes (es decir, cuántos clientes hicieron solo 1 pedido, cuántos hicieron 2, cuántos 3, y así sucesivamente...).\n",
    "3. ¿Cuáles son los 20 principales productos que se piden con más frecuencia (muestra su identificación y nombre)?"
   ]
  },
  {
   "cell_type": "markdown",
   "id": "packed-classic",
   "metadata": {
    "id": "packed-classic"
   },
   "source": [
    "### [B1] Diferencia entre miércoles y sábados para  `'order_hour_of_day'`. Traza gráficos de barra para los dos días y describe las diferencias que veas."
   ]
  },
  {
   "cell_type": "code",
   "execution_count": 44,
   "id": "d89b8403",
   "metadata": {
    "id": "d89b8403"
   },
   "outputs": [],
   "source": [
    "mie_distribucion= orders[orders['order_dow'] == 3]\n",
    "mie_distribucion= mie_distribucion['order_hour_of_day'].value_counts().sort_index()\n",
    "#print(mie_distribucion)"
   ]
  },
  {
   "cell_type": "code",
   "execution_count": 45,
   "id": "94e54e8a",
   "metadata": {
    "id": "94e54e8a"
   },
   "outputs": [],
   "source": [
    "sab_distribucion= orders[orders['order_dow'] == 6]\n",
    "sab_distribucion= sab_distribucion['order_hour_of_day'].value_counts().sort_index()"
   ]
  },
  {
   "cell_type": "code",
   "execution_count": 46,
   "id": "797c90a8",
   "metadata": {
    "id": "797c90a8"
   },
   "outputs": [
    {
     "data": {
      "image/png": "[encoded data removed]",
      "text/plain": [
       "<Figure size 640x480 with 1 Axes>"
      ]
     },
     "metadata": {},
     "output_type": "display_data"
    }
   ],
   "source": [
    "plt.bar(mie_distribucion.index, mie_distribucion.values)\n",
    "plt.title('Pedidos por hora el día Miércoles')\n",
    "plt.xlabel('Horas del día')\n",
    "plt.ylabel('Número de pedidos')\n",
    "plt.grid(axis='y', alpha=0.7, linestyle=':')\n",
    "plt.tight_layout()\n",
    "plt.xticks(range(24))\n",
    "#print(mie_distribucion)\n",
    "plt.bar(sab_distribucion.index, sab_distribucion.values, alpha=0.5)\n",
    "plt.title('Pedidos por hora el día Sábado')\n",
    "plt.xlabel('Horas del día')\n",
    "plt.ylabel('Número de pedidos')\n",
    "plt.grid(axis='y', alpha=0.7, linestyle=':')\n",
    "plt.tight_layout()\n",
    "plt.xticks(range(24))\n",
    "plt.legend(['Miércoles', 'Sábado'])\n",
    "plt.show()"
   ]
  },
  {
   "cell_type": "code",
   "execution_count": 47,
   "id": "35bcea30",
   "metadata": {
    "id": "35bcea30"
   },
   "outputs": [],
   "source": [
    "#plt.show()"
   ]
  },
  {
   "cell_type": "markdown",
   "id": "71ba52f2-8b9a-48d9-8b5b-002cd6e3cd78",
   "metadata": {},
   "source": [
    "<div class=\"alert alert-block alert-success\">\n",
    "<b>Comentario del revisor</b> <a class=\"tocSkip\"></a><br />\n",
    "Bien hecho!\n",
    "<br />\n",
    "Buena manera de mostrar los resultados de ambos días en una misma grafica\n",
    "</div>\n"
   ]
  },
  {
   "cell_type": "markdown",
   "id": "charitable-congo",
   "metadata": {
    "id": "charitable-congo"
   },
   "source": [
    "Podemos apreciar las diferencias en tendencias del comprobador de acuerdo al día, los miércoles compran más temprano que los sábados, donde hay mayor número de pedidos en la tarde"
   ]
  },
  {
   "cell_type": "markdown",
   "id": "e3891143",
   "metadata": {
    "id": "e3891143"
   },
   "source": [
    "### [B2] ¿Cuál es la distribución para el número de pedidos por cliente?"
   ]
  },
  {
   "cell_type": "code",
   "execution_count": 48,
   "id": "d8c26c23",
   "metadata": {
    "id": "d8c26c23"
   },
   "outputs": [
    {
     "data": {
      "image/png": "[encoded data removed]",
      "text/plain": [
       "<Figure size 640x480 with 1 Axes>"
      ]
     },
     "metadata": {},
     "output_type": "display_data"
    }
   ],
   "source": [
    "#Grafica la distribución para el número de órdenes que hacen los clientes (es decir, cuántos clientes hicieron solo 1 pedido, cuántos hicieron 2, cuántos 3, y así sucesivamente...).\n",
    "num_orders= orders['order_number'].value_counts().sort_index()\n",
    "plt.bar(num_orders.index, num_orders.values)\n",
    "plt.title('Número de pedidos por cliente')\n",
    "plt.xlabel('Cantidad de Pedidos en total')\n",
    "plt.ylabel('Número de pedidos por cantidad de pedidos')\n",
    "plt.show()"
   ]
  },
  {
   "cell_type": "code",
   "execution_count": 50,
   "id": "00e69a66",
   "metadata": {
    "id": "00e69a66"
   },
   "outputs": [],
   "source": [
    "#plt.show()"
   ]
  },
  {
   "cell_type": "markdown",
   "id": "f493bebe-d1d5-4ec1-aed0-cdb0c83784ac",
   "metadata": {},
   "source": [
    "<div class=\"alert alert-block alert-success\">\n",
    "<b>Comentario del revisor</b> <a class=\"tocSkip\"></a><br />\n",
    "Correcto!<br/> \n",
    "\n",
    "La mayoría de usuarios no ha hecho muchos pedidos, buenas observaciones.\n",
    "\n",
    "</div>\n"
   ]
  },
  {
   "cell_type": "markdown",
   "id": "d2eff7d5",
   "metadata": {
    "id": "d2eff7d5"
   },
   "source": [
    "Descubrimos que el número de pedidos por persona tiende a disminuir conforme va creciendo la cantidad de pedidos. Hay muchos pedidos donde la persona solo ha hecho 1, 2, 3, 4 ordenes."
   ]
  },
  {
   "cell_type": "markdown",
   "id": "54a0319c",
   "metadata": {
    "id": "54a0319c"
   },
   "source": [
    "### [B3] ¿Cuáles son los 20 productos más populares (muestra su ID y nombre)?"
   ]
  },
  {
   "cell_type": "code",
   "execution_count": 49,
   "id": "d01c4c98-d71a-4de9-9b64-7349598dd57b",
   "metadata": {},
   "outputs": [
    {
     "name": "stdout",
     "output_type": "stream",
     "text": [
      "   order_id  product_id  add_to_cart_order  reordered\n",
      "0   2141543       11440               17.0          0\n",
      "1    567889        1560                1.0          1\n",
      "2   2261212       26683                1.0          1\n",
      "3    491251        8670               35.0          1\n",
      "4   2571142        1940                5.0          1\n"
     ]
    }
   ],
   "source": [
    "m= order_products.head()\n",
    "print(m)"
   ]
  },
  {
   "cell_type": "code",
   "execution_count": 50,
   "id": "exterior-arizona",
   "metadata": {
    "id": "exterior-arizona",
    "scrolled": true
   },
   "outputs": [
    {
     "name": "stdout",
     "output_type": "stream",
     "text": [
      "[24852, 13176, 21137, 21903, 47209, 47766, 47626, 16797, 26209, 27845, 27966, 22935, 24964, 45007, 39275, 49683, 28204, 5876, 8277, 40706]\n",
      "       product_id              product_name\n",
      "5875         5876             ORGANIC LEMON\n",
      "8276         8277  APPLE HONEYCRISP ORGANIC\n",
      "13175       13176    BAG OF ORGANIC BANANAS\n",
      "16796       16797              STRAWBERRIES\n",
      "21136       21137      ORGANIC STRAWBERRIES\n",
      "21902       21903      ORGANIC BABY SPINACH\n",
      "22934       22935      ORGANIC YELLOW ONION\n",
      "24851       24852                    BANANA\n",
      "24963       24964            ORGANIC GARLIC\n",
      "26208       26209                     LIMES\n",
      "27844       27845        ORGANIC WHOLE MILK\n",
      "27965       27966       ORGANIC RASPBERRIES\n",
      "28203       28204        ORGANIC FUJI APPLE\n",
      "39274       39275       ORGANIC BLUEBERRIES\n",
      "40705       40706    ORGANIC GRAPE TOMATOES\n",
      "45006       45007          ORGANIC ZUCCHINI\n",
      "47208       47209      ORGANIC HASS AVOCADO\n",
      "47625       47626               LARGE LEMON\n",
      "47765       47766           ORGANIC AVOCADO\n",
      "49682       49683            CUCUMBER KIRBY\n"
     ]
    }
   ],
   "source": [
    "#Muestra la cuenta de valores que hay en la columna 'product_id':\n",
    "#(número ID que identifica de manera única cada producto)\n",
    "most_pop= order_products['product_id'].value_counts().head(20)#.sort_values(ascending=False)#.head(22) #Tuve que poner 22 productos en la lista, porque el id 66050 y id 53297 no se encuentran en el conjunto de datos 'products'.\n",
    "most_pop= most_pop.index.tolist()\n",
    "print(most_pop)\n",
    "id_nombre= products[products['product_id'].isin(most_pop)][['product_id','product_name']]\n",
    "print(id_nombre)"
   ]
  },
  {
   "cell_type": "markdown",
   "id": "49ee00f7-3fd5-4848-ac57-311d7882ad9f",
   "metadata": {},
   "source": [
    "<div class=\"alert alert-block alert-warning\">\n",
    "<b>Comentario del revisor</b> <a class=\"tocSkip\"></a><br />\n",
    "Cuidado!<br/> \n",
    "\n",
    "Respecto a lo que mencionas sobre los `id` `66050` y `53297`, estos no son `id` sino el conteo de los productos, el problema es que el conteo se esta tomando como si fuera el id de los productos, te dejo un ejemplo de como mejorar esta parte\n",
    "\n",
    "</div>\n"
   ]
  },
  {
   "cell_type": "code",
   "execution_count": 56,
   "id": "45796006-2904-419c-af7a-c1b0fe8d3068",
   "metadata": {},
   "outputs": [
    {
     "name": "stdout",
     "output_type": "stream",
     "text": [
      "product_id  product_name            \n",
      "24852       BANANA                      66050\n",
      "13176       BAG OF ORGANIC BANANAS      53297\n",
      "21137       ORGANIC STRAWBERRIES        37039\n",
      "21903       ORGANIC BABY SPINACH        33971\n",
      "47209       ORGANIC HASS AVOCADO        29773\n",
      "47766       ORGANIC AVOCADO             24689\n",
      "47626       LARGE LEMON                 21495\n",
      "16797       STRAWBERRIES                20018\n",
      "26209       LIMES                       19690\n",
      "27845       ORGANIC WHOLE MILK          19600\n",
      "27966       ORGANIC RASPBERRIES         19197\n",
      "22935       ORGANIC YELLOW ONION        15898\n",
      "24964       ORGANIC GARLIC              15292\n",
      "45007       ORGANIC ZUCCHINI            14584\n",
      "39275       ORGANIC BLUEBERRIES         13879\n",
      "49683       CUCUMBER KIRBY              13675\n",
      "28204       ORGANIC FUJI APPLE          12544\n",
      "5876        ORGANIC LEMON               12232\n",
      "8277        APPLE HONEYCRISP ORGANIC    11993\n",
      "40706       ORGANIC GRAPE TOMATOES      11781\n",
      "dtype: int64\n"
     ]
    }
   ],
   "source": [
    "# Código del revisor\n",
    "df_merged_products = order_products.merge(products)\n",
    "print(df_merged_products[['product_id','product_name']].value_counts().sort_values(ascending=False).head(20))"
   ]
  },
  {
   "cell_type": "code",
   "execution_count": 51,
   "id": "universal-facial",
   "metadata": {
    "id": "universal-facial"
   },
   "outputs": [],
   "source": [
    "#¿Es necesario ordenar los productos desde el más vendido?"
   ]
  },
  {
   "cell_type": "code",
   "execution_count": 54,
   "id": "bbcdd20b",
   "metadata": {
    "id": "bbcdd20b"
   },
   "outputs": [],
   "source": [
    "#Hice todo el código en una celda, ¿esta bien?"
   ]
  },
  {
   "cell_type": "markdown",
   "id": "346a49cf-b858-4bf8-a99c-f8c960702cad",
   "metadata": {},
   "source": [
    "<div class=\"alert alert-block alert-success\">\n",
    "<b>Comentario del revisor</b> <a class=\"tocSkip\"></a><br />\n",
    "Sí esta bien que escribas todo el código en una celda mientras que el código este limpio y sea entendible\n",
    "\n",
    "</div>\n"
   ]
  },
  {
   "cell_type": "markdown",
   "id": "7df00f47",
   "metadata": {
    "id": "7df00f47"
   },
   "source": [
    "Los productos más vendidos son BANANA, BAG OF ORGANIC BANANA, ORGANIC STRAWBERRIES, ETC..."
   ]
  },
  {
   "cell_type": "markdown",
   "id": "gross-theme",
   "metadata": {
    "id": "gross-theme"
   },
   "source": [
    "# [C] Difícil (deben completarse todos para aprobar)\n",
    "\n",
    "1. ¿Cuántos artículos suelen comprar las personas en un pedido? ¿Cómo es la distribución?\n",
    "2. ¿Cuáles son los 20 principales artículos que vuelven a pedirse con mayor frecuencia (muestra sus nombres e IDs de los productos)?\n",
    "3. Para cada producto, ¿cuál es la tasa de repetición del pedido (número de repeticiones de pedido/total de pedidos?\n",
    "4. Para cada cliente, ¿qué proporción de los productos que pidió ya los había pedido? Calcula la tasa de repetición de pedido para cada usuario en lugar de para cada producto.\n",
    "5. ¿Cuáles son los 20 principales artículos que la gente pone primero en sus carritos (muestra las IDs de los productos, sus nombres, y el número de veces en que fueron el primer artículo en añadirse al carrito)?"
   ]
  },
  {
   "cell_type": "markdown",
   "id": "romantic-deposit",
   "metadata": {
    "id": "romantic-deposit"
   },
   "source": [
    "### [C1] ¿Cuántos artículos compran normalmente las personas en un pedido? ¿Cómo es la distribución?"
   ]
  },
  {
   "cell_type": "code",
   "execution_count": 57,
   "id": "virtual-punch",
   "metadata": {
    "id": "virtual-punch"
   },
   "outputs": [
    {
     "name": "stdout",
     "output_type": "stream",
     "text": [
      "order_id\n",
      "3421079      1\n",
      "1288686      1\n",
      "1288764      1\n",
      "1288825      1\n",
      "1288873      1\n",
      "          ... \n",
      "1959075     98\n",
      "171934     104\n",
      "2136777    108\n",
      "3308010    115\n",
      "61355      127\n",
      "Name: product_id, Length: 450046, dtype: int64\n"
     ]
    },
    {
     "data": {
      "text/plain": [
       "<AxesSubplot:ylabel='Frequency'>"
      ]
     },
     "execution_count": 57,
     "metadata": {},
     "output_type": "execute_result"
    },
    {
     "data": {
      "image/png": "[encoded data removed]",
      "text/plain": [
       "<Figure size 640x480 with 1 Axes>"
      ]
     },
     "metadata": {},
     "output_type": "display_data"
    }
   ],
   "source": [
    "artx_per=order_products.groupby(by='order_id').count()['product_id'].sort_values()\n",
    "print(artx_per)\n",
    "artx_per.plot(kind='hist', bins=100)\n"
   ]
  },
  {
   "cell_type": "markdown",
   "id": "designed-mortality",
   "metadata": {
    "id": "designed-mortality"
   },
   "source": [
    "Escribe aquí tus conclusiones. Podemos ver que de 0-10 productos en pedidos tienen la mayor frecuencia en el histograma."
   ]
  },
  {
   "cell_type": "markdown",
   "id": "74c205e0-ae79-46f6-8f6c-fb3e6a1e987a",
   "metadata": {},
   "source": [
    "<div class=\"alert alert-block alert-success\">\n",
    "<b>Comentario del revisor</b> <a class=\"tocSkip\"></a><br />\n",
    "Bien hecho, el resultado es correcto, los usuarios suelen pedir alrededor de 10 articulos\n",
    "</div>\n"
   ]
  },
  {
   "cell_type": "markdown",
   "id": "5e6b5537",
   "metadata": {
    "id": "5e6b5537"
   },
   "source": [
    "### [C2] ¿Cuáles son los 20 principales artículos que vuelven a pedirse con mayor frecuencia (muestra sus nombres e IDs de los productos)?"
   ]
  },
  {
   "cell_type": "code",
   "execution_count": 58,
   "id": "9374e55a",
   "metadata": {
    "id": "9374e55a"
   },
   "outputs": [],
   "source": [
    "vol_pedir_art= order_products[order_products['reordered']==1][['order_id', 'product_id', 'reordered']]\n",
    "#print(vol_pedir_art)"
   ]
  },
  {
   "cell_type": "code",
   "execution_count": 59,
   "id": "14133dc7-ebeb-4e1d-9a3d-b05742a77029",
   "metadata": {},
   "outputs": [],
   "source": [
    "fusion= vol_pedir_art.merge(products, on= 'product_id')"
   ]
  },
  {
   "cell_type": "code",
   "execution_count": 60,
   "id": "087fcdf0-a58f-4347-bc54-8ff91b324c4a",
   "metadata": {},
   "outputs": [
    {
     "data": {
      "text/plain": [
       "product_id  product_name            \n",
       "24852       BANANA                      55763\n",
       "13176       BAG OF ORGANIC BANANAS      44450\n",
       "21137       ORGANIC STRAWBERRIES        28639\n",
       "21903       ORGANIC BABY SPINACH        26233\n",
       "47209       ORGANIC HASS AVOCADO        23629\n",
       "47766       ORGANIC AVOCADO             18743\n",
       "27845       ORGANIC WHOLE MILK          16251\n",
       "47626       LARGE LEMON                 15044\n",
       "27966       ORGANIC RASPBERRIES         14748\n",
       "16797       STRAWBERRIES                13945\n",
       "26209       LIMES                       13327\n",
       "22935       ORGANIC YELLOW ONION        11145\n",
       "24964       ORGANIC GARLIC              10411\n",
       "45007       ORGANIC ZUCCHINI            10076\n",
       "49683       CUCUMBER KIRBY               9538\n",
       "28204       ORGANIC FUJI APPLE           8989\n",
       "8277        APPLE HONEYCRISP ORGANIC     8836\n",
       "39275       ORGANIC BLUEBERRIES          8799\n",
       "5876        ORGANIC LEMON                8412\n",
       "49235       ORGANIC HALF & HALF          8389\n",
       "dtype: int64"
      ]
     },
     "execution_count": 60,
     "metadata": {},
     "output_type": "execute_result"
    }
   ],
   "source": [
    "fusion.groupby(['product_id', 'product_name']).size().sort_values(ascending=False).head(20)"
   ]
  },
  {
   "cell_type": "markdown",
   "id": "247ab192-b3d7-4bcd-8080-6a50b5fdec28",
   "metadata": {},
   "source": [
    "<div class=\"alert alert-block alert-success\">\n",
    "<b>Comentario del revisor</b> <a class=\"tocSkip\"></a><br />\n",
    "Correcto!<br/> \n",
    "Buena manera de mostrar los resultados, los productos naturales son consistentemente los más vendidos\n",
    "</div>\n"
   ]
  },
  {
   "cell_type": "code",
   "execution_count": 61,
   "id": "possible-change",
   "metadata": {
    "id": "possible-change",
    "scrolled": true
   },
   "outputs": [
    {
     "name": "stdout",
     "output_type": "stream",
     "text": [
      "[24852, 13176, 21137, 21903, 47209, 47766, 27845, 47626, 27966, 16797, 26209, 22935, 24964, 45007, 49683, 28204, 8277, 39275, 5876, 49235]\n"
     ]
    }
   ],
   "source": [
    "mas_pedidos= vol_pedir_art['product_id'].value_counts().sort_values(ascending=False).head(20)\n",
    "id_mas_pedidos= mas_pedidos.index.tolist()\n",
    "print(id_mas_pedidos)"
   ]
  },
  {
   "cell_type": "code",
   "execution_count": 62,
   "id": "professional-surfing",
   "metadata": {
    "id": "professional-surfing",
    "scrolled": true
   },
   "outputs": [],
   "source": [
    "id_nombre= products[products['product_id'].isin(id_mas_pedidos)][['product_id','product_name']]"
   ]
  },
  {
   "cell_type": "code",
   "execution_count": 63,
   "id": "48dd3658",
   "metadata": {
    "id": "48dd3658"
   },
   "outputs": [
    {
     "name": "stdout",
     "output_type": "stream",
     "text": [
      "       product_id              product_name\n",
      "49682       49683            CUCUMBER KIRBY\n",
      "49234       49235       ORGANIC HALF & HALF\n",
      "47765       47766           ORGANIC AVOCADO\n",
      "47625       47626               LARGE LEMON\n",
      "47208       47209      ORGANIC HASS AVOCADO\n",
      "45006       45007          ORGANIC ZUCCHINI\n",
      "39274       39275       ORGANIC BLUEBERRIES\n",
      "28203       28204        ORGANIC FUJI APPLE\n",
      "27965       27966       ORGANIC RASPBERRIES\n",
      "27844       27845        ORGANIC WHOLE MILK\n",
      "26208       26209                     LIMES\n",
      "24963       24964            ORGANIC GARLIC\n",
      "24851       24852                    BANANA\n",
      "22934       22935      ORGANIC YELLOW ONION\n",
      "21902       21903      ORGANIC BABY SPINACH\n",
      "21136       21137      ORGANIC STRAWBERRIES\n",
      "16796       16797              STRAWBERRIES\n",
      "13175       13176    BAG OF ORGANIC BANANAS\n",
      "8276         8277  APPLE HONEYCRISP ORGANIC\n",
      "5875         5876             ORGANIC LEMON\n"
     ]
    }
   ],
   "source": [
    "print(id_nombre.sort_values(by='product_id', ascending=False)) #.sort_index(ascending=False)"
   ]
  },
  {
   "cell_type": "markdown",
   "id": "80e70c74",
   "metadata": {
    "id": "80e70c74"
   },
   "source": [
    "Escribe aquí tus conclusiones"
   ]
  },
  {
   "cell_type": "markdown",
   "id": "82680fbd-94eb-4dd8-8cae-2ccd0d68f3e7",
   "metadata": {},
   "source": [
    "<div class=\"alert alert-block alert-warning\">\n",
    "<b>Comentario del revisor</b> <a class=\"tocSkip\"></a><br />\n",
    "Cuidado!<br/> \n",
    "\n",
    "Este otro código no era necesario, debemos mantener el orden y limpieza en el proyecto\n",
    "</div>\n"
   ]
  },
  {
   "cell_type": "markdown",
   "id": "9d312b14",
   "metadata": {
    "id": "9d312b14"
   },
   "source": [
    "### [C3] Para cada producto, ¿cuál es la proporción de las veces que se pide y que se vuelve a pedir?"
   ]
  },
  {
   "cell_type": "code",
   "execution_count": 64,
   "id": "8ae9f4b1",
   "metadata": {
    "id": "8ae9f4b1",
    "scrolled": true
   },
   "outputs": [
    {
     "name": "stdout",
     "output_type": "stream",
     "text": [
      "       product_id                                       product_name  \\\n",
      "0               1                         CHOCOLATE SANDWICH COOKIES   \n",
      "1               3               ROBUST GOLDEN UNSWEETENED OOLONG TEA   \n",
      "2               4  SMART ONES CLASSIC FAVORITES MINI RIGATONI WIT...   \n",
      "3               7                     PURE COCONUT WATER WITH ORANGE   \n",
      "4               8                  CUT RUSSET POTATOES STEAM N' MASH   \n",
      "...           ...                                                ...   \n",
      "36223       49690                      HIGH PERFORMANCE ENERGY DRINK   \n",
      "36224       49691                      ORIGINAL PANCAKE & WAFFLE MIX   \n",
      "36225       49692    ORGANIC INSTANT OATMEAL LIGHT MAPLE BROWN SUGAR   \n",
      "36226       49693                             SPRING WATER BODY WASH   \n",
      "36227       49694                            BURRITO- STEAK & CHEESE   \n",
      "\n",
      "       aisle_id  department_id  product_total  product_pedidos  proportions  \n",
      "0            61             19            280              158     0.564286  \n",
      "1            94              7             42               31     0.738095  \n",
      "2            38              1             49               25     0.510204  \n",
      "3            98              7              2                1     0.500000  \n",
      "4           116              1             19                6     0.315789  \n",
      "...         ...            ...            ...              ...          ...  \n",
      "36223        64              7              5                4     0.800000  \n",
      "36224       130             14             72               31     0.430556  \n",
      "36225       130             14             12                5     0.416667  \n",
      "36226       127             11             25               11     0.440000  \n",
      "36227        38              1              9                3     0.333333  \n",
      "\n",
      "[36228 rows x 7 columns]\n"
     ]
    }
   ],
   "source": [
    "product_pedido_total= order_products['product_id'].value_counts().reset_index()\n",
    "product_vuelto_pedir= order_products[order_products['reordered']==1]['product_id'].value_counts().reset_index()\n",
    "proporcion= product_pedido_total.merge(product_vuelto_pedir, on='index')\n",
    "proporcion.rename(columns={'index':'product_id', 'product_id_x':'product_total', 'product_id_y': 'product_pedidos'}, inplace=True)\n",
    "proporcion= products.merge(proporcion, on='product_id')\n",
    "proporcion['proportions']= proporcion['product_pedidos']/ proporcion['product_total']\n",
    "\n",
    "print(proporcion)"
   ]
  },
  {
   "cell_type": "markdown",
   "id": "I10dEIAyldcO",
   "metadata": {
    "id": "I10dEIAyldcO"
   },
   "source": [
    "Escribe aquí tus conclusiones"
   ]
  },
  {
   "cell_type": "markdown",
   "id": "subject-boxing",
   "metadata": {
    "id": "subject-boxing"
   },
   "source": [
    "### [C4] Para cada cliente, ¿qué proporción de sus productos ya los había pedido?"
   ]
  },
  {
   "cell_type": "code",
   "execution_count": 65,
   "id": "medical-couple",
   "metadata": {
    "id": "medical-couple",
    "scrolled": true
   },
   "outputs": [
    {
     "name": "stdout",
     "output_type": "stream",
     "text": [
      "        user_id  product_total  product_pedidos  proportion_product\n",
      "0             2             26                1            0.038462\n",
      "1             5             12                8            0.666667\n",
      "2             7             14               13            0.928571\n",
      "3            11             15                3            0.200000\n",
      "4            12             12                3            0.250000\n",
      "...         ...            ...              ...                 ...\n",
      "132986   206203             27                6            0.222222\n",
      "132987   206206             21               15            0.714286\n",
      "132988   206207             46               41            0.891304\n",
      "132989   206208            125               87            0.696000\n",
      "132990   206209             25                8            0.320000\n",
      "\n",
      "[132991 rows x 4 columns]\n"
     ]
    }
   ],
   "source": [
    "user= order_products.merge(orders, on='order_id')\n",
    "\n",
    "product_total_user= user.groupby(by='user_id')['product_id'].count().reset_index()\n",
    "product_vuelto_pedir= user[user['reordered']==1].groupby(by='user_id')['product_id'].count().reset_index()\n",
    "\n",
    "proporcion= product_total_user.merge(product_vuelto_pedir, on='user_id')\n",
    "proporcion.rename(columns={'user_id':'user_id', 'product_id_x':'product_total', 'product_id_y': 'product_pedidos'}, inplace=True)\n",
    "proporcion['proportion_product']= proporcion['product_pedidos']/ proporcion['product_total']\n",
    "\n",
    "#print(product_total_user)\n",
    "#print(product_vuelto_pedir)\n",
    "print(proporcion)"
   ]
  },
  {
   "cell_type": "markdown",
   "id": "3720c3eb-7d63-421b-b801-02f2d90333e5",
   "metadata": {
    "id": "8892e4b4"
   },
   "source": [
    "<div class=\"alert alert-block alert-success\">\n",
    "<b>Comentario del revisor</b> <a class=\"tocSkip\"></a><br />\n",
    "Correcto!<br/>\n",
    "Buena manera de realizar las proporciones\n",
    "</div>\n"
   ]
  },
  {
   "cell_type": "markdown",
   "id": "BgJSvXDsleXz",
   "metadata": {
    "id": "BgJSvXDsleXz"
   },
   "source": [
    "Escribe aquí tus conclusiones"
   ]
  },
  {
   "cell_type": "markdown",
   "id": "92d35137",
   "metadata": {
    "id": "92d35137"
   },
   "source": [
    "### [C5] ¿Cuáles son los 20 principales artículos que las personas ponen primero en sus carritos?"
   ]
  },
  {
   "cell_type": "code",
   "execution_count": 66,
   "id": "0ae57274",
   "metadata": {
    "id": "0ae57274",
    "scrolled": true
   },
   "outputs": [],
   "source": [
    "primero_en_carrito= order_products[order_products['add_to_cart_order']==1]\n",
    "#print(primero_en_carrito)"
   ]
  },
  {
   "cell_type": "code",
   "execution_count": 67,
   "id": "forty-netherlands",
   "metadata": {
    "id": "forty-netherlands",
    "scrolled": true
   },
   "outputs": [],
   "source": [
    "primero_en_carrito= primero_en_carrito['product_id'].value_counts().sort_values(ascending=False).head(20)"
   ]
  },
  {
   "cell_type": "code",
   "execution_count": 69,
   "id": "08e41ec2",
   "metadata": {
    "id": "08e41ec2"
   },
   "outputs": [
    {
     "name": "stdout",
     "output_type": "stream",
     "text": [
      "24852    15562\n",
      "13176    11026\n",
      "27845     4363\n",
      "21137     3946\n",
      "47209     3390\n",
      "21903     3336\n",
      "47766     3044\n",
      "19660     2336\n",
      "16797     2308\n",
      "27966     2024\n",
      "44632     1914\n",
      "49235     1797\n",
      "47626     1737\n",
      "196       1733\n",
      "38689     1397\n",
      "26209     1370\n",
      "12341     1340\n",
      "5785      1310\n",
      "27086     1309\n",
      "22935     1246\n",
      "Name: product_id, dtype: int64\n"
     ]
    }
   ],
   "source": [
    "print(primero_en_carrito)"
   ]
  },
  {
   "cell_type": "markdown",
   "id": "28ce9872",
   "metadata": {
    "id": "28ce9872"
   },
   "source": [
    "Escribe aquí tus conclusiones"
   ]
  },
  {
   "cell_type": "markdown",
   "id": "abb562e8-7897-484f-9415-dbd703a37a64",
   "metadata": {},
   "source": [
    "<div class=\"alert alert-block alert-warning\">\n",
    "<b>Comentario del revisor</b> <a class=\"tocSkip\"></a><br />\n",
    "\n",
    "El conteo de los productos es correcto, la manera de realizar este ejercicio es exactamente igual al realizado en el ejercicio `C2` con las diferencia de que el filtro en este caso es `add_to_cart_order == 1`\n",
    "</div>\n"
   ]
  },
  {
   "cell_type": "markdown",
   "id": "uITbFCEoDosC",
   "metadata": {
    "id": "uITbFCEoDosC"
   },
   "source": [
    "### Conclusion general del proyecto:"
   ]
  },
  {
   "cell_type": "markdown",
   "id": "b0e87cb9-48d4-440b-adfc-8f874c799596",
   "metadata": {
    "id": "Nk-4GS7mDwqY"
   },
   "source": [
    "'En este proyecto estudiamos el contenido del carrito de compras de las pesonas, no primero de limpiar los datos, llenando valores faltantes y eliminando duplicados, también analizamos el dataset y sacamos valiosos insights, donde usamos gráficas para comunicar nuestros resultados de forma fácil.'"
   ]
  },
  {
   "cell_type": "markdown",
   "id": "af572f8c-7163-4160-8a03-fdcb8a9c8b5f",
   "metadata": {},
   "source": [
    "## Comentario general del revisor\n",
    "<div class=\"alert alert-block alert-success\">\n",
    "<b>Comentario del revisor</b> <a class=\"tocSkip\"></a><br />\n",
    "Has realizado un buen trabajo, me doy cuenta de que has aplicado los conocimientos que has adquirido durante el curso y los procedimientos realizados son correctos. Considero que este es un proyecto que se empieza a asemejar más a algún proyecto que te pidan en un trabajo, a partir de análisis de este tipo se pueden diseñar estrategias de marketing específicas para ciertos productos o se pueden optimizar los procesos internos para tener disponibles más rápidamente los productos que se venden más seguido.<br/>\n",
    "    \n",
    "\n",
    "Continúa con el buen trabajo y mucho éxito en el siguiente Sprint!\n",
    "</div>\n"
   ]
  },
  {
   "cell_type": "markdown",
   "id": "e978656f-9c85-46cb-9c38-5eff69527b4b",
   "metadata": {},
   "source": [
    "<div class=\"alert alert-block alert-success\">\n",
    "<b>Aspectos positivos del proyecto</b> <a class=\"tocSkip\"></a><br />\n",
    "\n",
    "- Las observaciones intermedias me parecen buenas\n",
    "\n",
    "    \n",
    "</div>\n",
    "\n",
    "<div class=\"alert alert-block alert-warning\">\n",
    "<b>Aspectos que pueden mejorar del proyecto</b> <a class=\"tocSkip\"></a><br />\n",
    "\n",
    "- Tener mayor orden en el proyecto\n",
    "- Desarrollar un poco más las conclusiones finales, puedes añadir lo que te pareció complicado del proyecto, que mejoras se pueden hacer, etc.\n",
    "    \n",
    "</div>\n",
    "\n"
   ]
  }
 ],
 "metadata": {
  "colab": {
   "provenance": [
    {
     "file_id": "1aLGZ19-GYem3LZdYHuzuwYIeSw_tr0AT",
     "timestamp": 1689682143157
    }
   ]
  },
  "kernelspec": {
   "display_name": "Python 3 (ipykernel)",
   "language": "python",
   "name": "python3"
  },
  "language_info": {
   "codemirror_mode": {
    "name": "ipython",
    "version": 3
   },
   "file_extension": ".py",
   "mimetype": "text/x-python",
   "name": "python",
   "nbconvert_exporter": "python",
   "pygments_lexer": "ipython3",
   "version": "3.9.23"
  },
  "vscode": {
   "interpreter": {
    "hash": "01a7be9ec63e704a62cefc5fe7a4756944464ee731be31632bdf42a4cb4688cf"
   }
  }
 },
 "nbformat": 4,
 "nbformat_minor": 5
}
